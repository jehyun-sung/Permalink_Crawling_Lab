{
 "cells": [
  {
   "metadata": {
    "ExecuteTime": {
     "end_time": "2025-06-25T01:21:10.356301Z",
     "start_time": "2025-06-25T01:21:05.541632Z"
    }
   },
   "cell_type": "code",
   "source": "pip install xlsxwriter",
   "id": "9fe14b32bdfef4c3",
   "outputs": [
    {
     "name": "stdout",
     "output_type": "stream",
     "text": [
      "Requirement already satisfied: xlsxwriter in c:\\users\\kearney\\pycharmmiscproject\\.venv\\scripts\\.venv\\lib\\site-packages (3.2.5)\n",
      "Note: you may need to restart the kernel to use updated packages.\n"
     ]
    }
   ],
   "execution_count": 2
  },
  {
   "metadata": {
    "ExecuteTime": {
     "end_time": "2025-06-25T01:21:14.245480Z",
     "start_time": "2025-06-25T01:21:12.024598Z"
    }
   },
   "cell_type": "code",
   "source": "pip install openpyxl",
   "id": "32dd7d606fe72304",
   "outputs": [
    {
     "name": "stdout",
     "output_type": "stream",
     "text": [
      "Requirement already satisfied: openpyxl in c:\\users\\kearney\\pycharmmiscproject\\.venv\\scripts\\.venv\\lib\\site-packages (3.1.5)\n",
      "Requirement already satisfied: et-xmlfile in c:\\users\\kearney\\pycharmmiscproject\\.venv\\scripts\\.venv\\lib\\site-packages (from openpyxl) (2.0.0)\n",
      "Note: you may need to restart the kernel to use updated packages.\n"
     ]
    }
   ],
   "execution_count": 3
  },
  {
   "metadata": {
    "ExecuteTime": {
     "end_time": "2025-06-25T01:21:17.918003Z",
     "start_time": "2025-06-25T01:21:15.647723Z"
    }
   },
   "cell_type": "code",
   "source": "pip install readability-lxml",
   "id": "475453bd274956aa",
   "outputs": [
    {
     "name": "stdout",
     "output_type": "stream",
     "text": [
      "Requirement already satisfied: readability-lxml in c:\\users\\kearney\\pycharmmiscproject\\.venv\\scripts\\.venv\\lib\\site-packages (0.8.4.1)\n",
      "Requirement already satisfied: chardet in c:\\users\\kearney\\pycharmmiscproject\\.venv\\scripts\\.venv\\lib\\site-packages (from readability-lxml) (5.2.0)\n",
      "Requirement already satisfied: lxml[html_clean] in c:\\users\\kearney\\pycharmmiscproject\\.venv\\scripts\\.venv\\lib\\site-packages (from readability-lxml) (5.4.0)\n",
      "Requirement already satisfied: cssselect in c:\\users\\kearney\\pycharmmiscproject\\.venv\\scripts\\.venv\\lib\\site-packages (from readability-lxml) (1.3.0)\n",
      "Requirement already satisfied: lxml_html_clean in c:\\users\\kearney\\pycharmmiscproject\\.venv\\scripts\\.venv\\lib\\site-packages (from lxml[html_clean]->readability-lxml) (0.4.2)\n",
      "Note: you may need to restart the kernel to use updated packages.\n"
     ]
    }
   ],
   "execution_count": 4
  },
  {
   "metadata": {
    "ExecuteTime": {
     "end_time": "2025-06-25T01:21:22.043454Z",
     "start_time": "2025-06-25T01:21:19.739529Z"
    }
   },
   "cell_type": "code",
   "source": "pip install trafilatura",
   "id": "44d527dfabebaaa8",
   "outputs": [
    {
     "name": "stdout",
     "output_type": "stream",
     "text": [
      "Requirement already satisfied: trafilatura in c:\\users\\kearney\\pycharmmiscproject\\.venv\\scripts\\.venv\\lib\\site-packages (2.0.0)\n",
      "Requirement already satisfied: certifi in c:\\users\\kearney\\pycharmmiscproject\\.venv\\scripts\\.venv\\lib\\site-packages (from trafilatura) (2025.6.15)\n",
      "Requirement already satisfied: charset_normalizer>=3.4.0 in c:\\users\\kearney\\pycharmmiscproject\\.venv\\scripts\\.venv\\lib\\site-packages (from trafilatura) (3.4.2)\n",
      "Requirement already satisfied: courlan>=1.3.2 in c:\\users\\kearney\\pycharmmiscproject\\.venv\\scripts\\.venv\\lib\\site-packages (from trafilatura) (1.3.2)\n",
      "Requirement already satisfied: htmldate>=1.9.2 in c:\\users\\kearney\\pycharmmiscproject\\.venv\\scripts\\.venv\\lib\\site-packages (from trafilatura) (1.9.3)\n",
      "Requirement already satisfied: justext>=3.0.1 in c:\\users\\kearney\\pycharmmiscproject\\.venv\\scripts\\.venv\\lib\\site-packages (from trafilatura) (3.0.2)\n",
      "Requirement already satisfied: lxml>=5.3.0 in c:\\users\\kearney\\pycharmmiscproject\\.venv\\scripts\\.venv\\lib\\site-packages (from trafilatura) (5.4.0)\n",
      "Requirement already satisfied: urllib3<3,>=1.26 in c:\\users\\kearney\\pycharmmiscproject\\.venv\\scripts\\.venv\\lib\\site-packages (from trafilatura) (2.5.0)\n",
      "Requirement already satisfied: babel>=2.16.0 in c:\\users\\kearney\\pycharmmiscproject\\.venv\\scripts\\.venv\\lib\\site-packages (from courlan>=1.3.2->trafilatura) (2.17.0)\n",
      "Requirement already satisfied: tld>=0.13 in c:\\users\\kearney\\pycharmmiscproject\\.venv\\scripts\\.venv\\lib\\site-packages (from courlan>=1.3.2->trafilatura) (0.13.1)\n",
      "Requirement already satisfied: dateparser>=1.1.2 in c:\\users\\kearney\\pycharmmiscproject\\.venv\\scripts\\.venv\\lib\\site-packages (from htmldate>=1.9.2->trafilatura) (1.2.1)\n",
      "Requirement already satisfied: python-dateutil>=2.9.0.post0 in c:\\users\\kearney\\pycharmmiscproject\\.venv\\scripts\\.venv\\lib\\site-packages (from htmldate>=1.9.2->trafilatura) (2.9.0.post0)\n",
      "Requirement already satisfied: pytz>=2024.2 in c:\\users\\kearney\\pycharmmiscproject\\.venv\\scripts\\.venv\\lib\\site-packages (from dateparser>=1.1.2->htmldate>=1.9.2->trafilatura) (2025.2)\n",
      "Requirement already satisfied: regex!=2019.02.19,!=2021.8.27,>=2015.06.24 in c:\\users\\kearney\\pycharmmiscproject\\.venv\\scripts\\.venv\\lib\\site-packages (from dateparser>=1.1.2->htmldate>=1.9.2->trafilatura) (2024.11.6)\n",
      "Requirement already satisfied: tzlocal>=0.2 in c:\\users\\kearney\\pycharmmiscproject\\.venv\\scripts\\.venv\\lib\\site-packages (from dateparser>=1.1.2->htmldate>=1.9.2->trafilatura) (5.3.1)\n",
      "Requirement already satisfied: lxml_html_clean in c:\\users\\kearney\\pycharmmiscproject\\.venv\\scripts\\.venv\\lib\\site-packages (from lxml[html_clean]>=4.4.2->justext>=3.0.1->trafilatura) (0.4.2)\n",
      "Requirement already satisfied: six>=1.5 in c:\\users\\kearney\\pycharmmiscproject\\.venv\\scripts\\.venv\\lib\\site-packages (from python-dateutil>=2.9.0.post0->htmldate>=1.9.2->trafilatura) (1.17.0)\n",
      "Requirement already satisfied: tzdata in c:\\users\\kearney\\pycharmmiscproject\\.venv\\scripts\\.venv\\lib\\site-packages (from tzlocal>=0.2->dateparser>=1.1.2->htmldate>=1.9.2->trafilatura) (2025.2)\n",
      "Note: you may need to restart the kernel to use updated packages.\n"
     ]
    }
   ],
   "execution_count": 5
  },
  {
   "metadata": {
    "ExecuteTime": {
     "end_time": "2025-06-25T01:21:25.645903Z",
     "start_time": "2025-06-25T01:21:23.382187Z"
    }
   },
   "cell_type": "code",
   "source": "pip install newspaper3k",
   "id": "bdfd16163453329d",
   "outputs": [
    {
     "name": "stdout",
     "output_type": "stream",
     "text": [
      "Requirement already satisfied: newspaper3k in c:\\users\\kearney\\pycharmmiscproject\\.venv\\scripts\\.venv\\lib\\site-packages (0.2.8)\n",
      "Requirement already satisfied: beautifulsoup4>=4.4.1 in c:\\users\\kearney\\pycharmmiscproject\\.venv\\scripts\\.venv\\lib\\site-packages (from newspaper3k) (4.13.4)\n",
      "Requirement already satisfied: Pillow>=3.3.0 in c:\\users\\kearney\\pycharmmiscproject\\.venv\\scripts\\.venv\\lib\\site-packages (from newspaper3k) (11.2.1)\n",
      "Requirement already satisfied: PyYAML>=3.11 in c:\\users\\kearney\\pycharmmiscproject\\.venv\\scripts\\.venv\\lib\\site-packages (from newspaper3k) (6.0.2)\n",
      "Requirement already satisfied: cssselect>=0.9.2 in c:\\users\\kearney\\pycharmmiscproject\\.venv\\scripts\\.venv\\lib\\site-packages (from newspaper3k) (1.3.0)\n",
      "Requirement already satisfied: lxml>=3.6.0 in c:\\users\\kearney\\pycharmmiscproject\\.venv\\scripts\\.venv\\lib\\site-packages (from newspaper3k) (5.4.0)\n",
      "Requirement already satisfied: nltk>=3.2.1 in c:\\users\\kearney\\pycharmmiscproject\\.venv\\scripts\\.venv\\lib\\site-packages (from newspaper3k) (3.9.1)\n",
      "Requirement already satisfied: requests>=2.10.0 in c:\\users\\kearney\\pycharmmiscproject\\.venv\\scripts\\.venv\\lib\\site-packages (from newspaper3k) (2.32.4)\n",
      "Requirement already satisfied: feedparser>=5.2.1 in c:\\users\\kearney\\pycharmmiscproject\\.venv\\scripts\\.venv\\lib\\site-packages (from newspaper3k) (6.0.11)\n",
      "Requirement already satisfied: tldextract>=2.0.1 in c:\\users\\kearney\\pycharmmiscproject\\.venv\\scripts\\.venv\\lib\\site-packages (from newspaper3k) (5.3.0)\n",
      "Requirement already satisfied: feedfinder2>=0.0.4 in c:\\users\\kearney\\pycharmmiscproject\\.venv\\scripts\\.venv\\lib\\site-packages (from newspaper3k) (0.0.4)\n",
      "Requirement already satisfied: jieba3k>=0.35.1 in c:\\users\\kearney\\pycharmmiscproject\\.venv\\scripts\\.venv\\lib\\site-packages (from newspaper3k) (0.35.1)\n",
      "Requirement already satisfied: python-dateutil>=2.5.3 in c:\\users\\kearney\\pycharmmiscproject\\.venv\\scripts\\.venv\\lib\\site-packages (from newspaper3k) (2.9.0.post0)\n",
      "Requirement already satisfied: tinysegmenter==0.3 in c:\\users\\kearney\\pycharmmiscproject\\.venv\\scripts\\.venv\\lib\\site-packages (from newspaper3k) (0.3)\n",
      "Requirement already satisfied: soupsieve>1.2 in c:\\users\\kearney\\pycharmmiscproject\\.venv\\scripts\\.venv\\lib\\site-packages (from beautifulsoup4>=4.4.1->newspaper3k) (2.7)\n",
      "Requirement already satisfied: typing-extensions>=4.0.0 in c:\\users\\kearney\\pycharmmiscproject\\.venv\\scripts\\.venv\\lib\\site-packages (from beautifulsoup4>=4.4.1->newspaper3k) (4.14.0)\n",
      "Requirement already satisfied: six in c:\\users\\kearney\\pycharmmiscproject\\.venv\\scripts\\.venv\\lib\\site-packages (from feedfinder2>=0.0.4->newspaper3k) (1.17.0)\n",
      "Requirement already satisfied: sgmllib3k in c:\\users\\kearney\\pycharmmiscproject\\.venv\\scripts\\.venv\\lib\\site-packages (from feedparser>=5.2.1->newspaper3k) (1.0.0)\n",
      "Requirement already satisfied: click in c:\\users\\kearney\\pycharmmiscproject\\.venv\\scripts\\.venv\\lib\\site-packages (from nltk>=3.2.1->newspaper3k) (8.2.1)\n",
      "Requirement already satisfied: joblib in c:\\users\\kearney\\pycharmmiscproject\\.venv\\scripts\\.venv\\lib\\site-packages (from nltk>=3.2.1->newspaper3k) (1.5.1)\n",
      "Requirement already satisfied: regex>=2021.8.3 in c:\\users\\kearney\\pycharmmiscproject\\.venv\\scripts\\.venv\\lib\\site-packages (from nltk>=3.2.1->newspaper3k) (2024.11.6)\n",
      "Requirement already satisfied: tqdm in c:\\users\\kearney\\pycharmmiscproject\\.venv\\scripts\\.venv\\lib\\site-packages (from nltk>=3.2.1->newspaper3k) (4.67.1)\n",
      "Requirement already satisfied: charset_normalizer<4,>=2 in c:\\users\\kearney\\pycharmmiscproject\\.venv\\scripts\\.venv\\lib\\site-packages (from requests>=2.10.0->newspaper3k) (3.4.2)\n",
      "Requirement already satisfied: idna<4,>=2.5 in c:\\users\\kearney\\pycharmmiscproject\\.venv\\scripts\\.venv\\lib\\site-packages (from requests>=2.10.0->newspaper3k) (3.10)\n",
      "Requirement already satisfied: urllib3<3,>=1.21.1 in c:\\users\\kearney\\pycharmmiscproject\\.venv\\scripts\\.venv\\lib\\site-packages (from requests>=2.10.0->newspaper3k) (2.5.0)\n",
      "Requirement already satisfied: certifi>=2017.4.17 in c:\\users\\kearney\\pycharmmiscproject\\.venv\\scripts\\.venv\\lib\\site-packages (from requests>=2.10.0->newspaper3k) (2025.6.15)\n",
      "Requirement already satisfied: requests-file>=1.4 in c:\\users\\kearney\\pycharmmiscproject\\.venv\\scripts\\.venv\\lib\\site-packages (from tldextract>=2.0.1->newspaper3k) (2.1.0)\n",
      "Requirement already satisfied: filelock>=3.0.8 in c:\\users\\kearney\\pycharmmiscproject\\.venv\\scripts\\.venv\\lib\\site-packages (from tldextract>=2.0.1->newspaper3k) (3.18.0)\n",
      "Requirement already satisfied: colorama in c:\\users\\kearney\\pycharmmiscproject\\.venv\\scripts\\.venv\\lib\\site-packages (from click->nltk>=3.2.1->newspaper3k) (0.4.6)\n",
      "Note: you may need to restart the kernel to use updated packages.\n"
     ]
    }
   ],
   "execution_count": 6
  },
  {
   "cell_type": "code",
   "id": "e0961914-1fc9-42b2-ab1c-fdc16a153d46",
   "metadata": {
    "ExecuteTime": {
     "end_time": "2025-06-25T01:28:44.452156Z",
     "start_time": "2025-06-25T01:27:26.873645Z"
    }
   },
   "source": [
    "import re\n",
    "import pandas as pd\n",
    "import requests\n",
    "from bs4 import BeautifulSoup\n",
    "from readability import Document\n",
    "import trafilatura\n",
    "from newspaper import Article\n",
    "from time import sleep\n",
    "from tqdm import tqdm\n",
    "from datetime import datetime\n",
    "\n",
    "# 🔹 입력 파일 경로 설정\n",
    "INPUT_PATH = r\"C:\\Users\\KEARNEY\\Desktop\\url 크롤링\\250520_라벨링 필요 기사 리스트.xlsx\"\n",
    "\n",
    "# 🔹 URL 리스트 불러오기\n",
    "df = pd.read_excel(INPUT_PATH, sheet_name='Sheet1').head(50)\n",
    "df['content'] = ''\n",
    "\n",
    "# 🔹 세션 설정 (User-Agent 포함)\n",
    "session = requests.Session()\n",
    "session.headers.update({\n",
    "    'User-Agent': 'Mozilla/5.0 (Windows NT 10.0; Win64; x64) '\n",
    "                  'AppleWebKit/537.36 (KHTML, like Gecko) '\n",
    "                  'Chrome/124.0.0.0 Safari/537.36',\n",
    "    'Accept': 'text/html,application/xhtml+xml,application/xml;q=0.9,*/*;q=0.8',\n",
    "    'Referer': 'https://www.google.com/',\n",
    "    'Connection': 'keep-alive',\n",
    "    'Upgrade-Insecure-Requests': '1',\n",
    "    'Sec-Fetch-Site': 'same-origin',\n",
    "    'Sec-Fetch-Mode': 'navigate',\n",
    "    'Sec-Fetch-User': '?1',\n",
    "    'Sec-Fetch-Dest': 'document'\n",
    "})\n",
    "\n",
    "# 🔹 필터 패턴 설정\n",
    "filter_contains = [\n",
    "    re.compile(r'(?i)\\bimage credit\\b'),\n",
    "    re.compile(r'(?i)^advertisement\\s*[:\\-]?\\s*')\n",
    "]\n",
    "\n",
    "filter_full = [\n",
    "    re.compile(r'^[A-Z][a-z]+(?: [A-Z][a-z]+)*\\.?$'),\n",
    "]\n",
    "\n",
    "start_time = datetime.now()\n",
    "print(f\"Start Time: {start_time:%Y-%m-%d %H:%M:%S}\")\n",
    "\n",
    "# 🔹 크롤링 및 본문 추출\n",
    "for idx, url in tqdm(enumerate(df['url']), total=len(df), desc=\"Progress\"):\n",
    "    text = ''\n",
    "    try:\n",
    "        # 1) HTML 요청 (최대 3회 시도)\n",
    "        for _ in range(3):\n",
    "            resp = session.get(url, timeout=15)\n",
    "            if resp.status_code == 410:\n",
    "                sleep(2)\n",
    "                continue\n",
    "            resp.raise_for_status()\n",
    "            break\n",
    "        resp.encoding = resp.apparent_encoding\n",
    "        html = resp.text\n",
    "\n",
    "        # 2) newspaper3k 사용 (가능하면 set_html 방식 사용)\n",
    "        try:\n",
    "            article = Article(url, keep_article_html=True)\n",
    "            article.set_html(html)\n",
    "            article.parse()\n",
    "            clean_html = article.article_html\n",
    "            soup_np = BeautifulSoup(clean_html, 'html.parser')\n",
    "\n",
    "            # 표나 목록 제거\n",
    "            for tag in soup_np(['table', 'ul', 'ol', 'li', 'td', 'th', 'tr']):\n",
    "                tag.decompose()\n",
    "\n",
    "            text = soup_np.get_text(separator=' ').strip()\n",
    "            text = re.sub(r'\\s+', ' ', text).strip()\n",
    "\n",
    "        except Exception as e:\n",
    "            print(f\"[{idx}] newspaper3k 실패: {e}\")\n",
    "            text = ''\n",
    "\n",
    "        # 3) trafilatura 보조\n",
    "        if len(text) < 200:\n",
    "            downloaded = trafilatura.fetch_url(url) or html\n",
    "            extracted = trafilatura.extract(\n",
    "                downloaded,\n",
    "                include_comments=False,\n",
    "                include_tables=False\n",
    "            ) or ''\n",
    "            if len(extracted) > len(text):\n",
    "                text = extracted.strip()\n",
    "\n",
    "        # 4) readability + <p> 추출\n",
    "        if len(text) < 200:\n",
    "            doc = Document(html)\n",
    "            summary = doc.summary()\n",
    "            soup_sum = BeautifulSoup(summary, 'html.parser')\n",
    "            paras = [p.get_text(strip=True) for p in soup_sum.find_all('p') if len(p.get_text(strip=True)) >= 50]\n",
    "            text = '\\n\\n'.join(paras)\n",
    "\n",
    "        # 5) 가장 긴 블록 선택\n",
    "        if len(text) < 200:\n",
    "            soup_full = BeautifulSoup(html, 'html.parser')\n",
    "            for tag in soup_full(['script', 'style']):\n",
    "                tag.decompose()\n",
    "            candidates = soup_full.find_all(['article', 'main', 'div', 'section'])\n",
    "            best = max(candidates, key=lambda t: len(t.get_text()), default=soup_full.body)\n",
    "            paras = [p.get_text(strip=True) for p in best.find_all('p') if len(p.get_text(strip=True)) >= 50]\n",
    "            text = '\\n\\n'.join(paras) or best.get_text(strip=True)\n",
    "\n",
    "        # 🔹 문장 필터링\n",
    "        sentences = re.split(r'(?<=[\\.\\?\\!])\\s+', text)\n",
    "        filtered = []\n",
    "        for sent in sentences:\n",
    "            sent_strip = sent.strip()\n",
    "            if any(p.search(sent_strip) for p in filter_contains):\n",
    "                continue\n",
    "            if any(p.fullmatch(sent_strip) for p in filter_full):\n",
    "                continue\n",
    "            filtered.append(sent_strip)\n",
    "        text = ' '.join(filtered).strip()\n",
    "\n",
    "    except Exception as e:\n",
    "        text = f'Error: {e}'\n",
    "\n",
    "    # 🔹 결과 저장\n",
    "    df.at[idx, 'content'] = text\n",
    "\n",
    "# 🔹 시간 출력\n",
    "end_time = datetime.now()\n",
    "print(f\"End Time: {end_time:%Y-%m-%d %H:%M:%S}\")\n",
    "print(f\"Time Consumed: {end_time - start_time}\")\n"
   ],
   "outputs": [
    {
     "name": "stdout",
     "output_type": "stream",
     "text": [
      "Start Time: 2025-06-25 10:27:26\n"
     ]
    },
    {
     "name": "stderr",
     "output_type": "stream",
     "text": [
      "Progress: 100%|██████████| 50/50 [01:17<00:00,  1.55s/it]"
     ]
    },
    {
     "name": "stdout",
     "output_type": "stream",
     "text": [
      "End Time: 2025-06-25 10:28:44\n",
      "Time Consumed: 0:01:17.530413\n"
     ]
    },
    {
     "name": "stderr",
     "output_type": "stream",
     "text": [
      "\n"
     ]
    }
   ],
   "execution_count": 14
  },
  {
   "metadata": {
    "ExecuteTime": {
     "end_time": "2025-06-25T01:28:53.069890Z",
     "start_time": "2025-06-25T01:28:53.064198Z"
    }
   },
   "cell_type": "code",
   "source": "df[\"content\"][2]",
   "id": "e3042009616a26e5",
   "outputs": [
    {
     "data": {
      "text/plain": [
       "\"Summary So, how was Samsung's Galaxy Unpacked 2025 event for you? If you missed the event, the tech giant revealed its newest set of Samsung Galaxy S25 devices, with something for everyone. The best bit is, if you want to snag one ASAP, the company has opened up pre-orders starting today, with general availability landing on February 7th. Samsung reveals the Galaxy S25, S25+, and S25 Ultra As announced during the Samsung Galaxy Unpacked event, the Galaxy S25, S25+, and S25 Ultra are now official. As Samsung fans have come to expect, each entry in the range corresponds to different needs and budgets, with the S25 being the more affordable choice and the Ultra being the luxury pick. So, what's on these phones? Regardless of which model you pick, you're getting a slick Snapdragon 8 Elite CPU and an AMOLED display. The more expensive models have bigger screens, going from the S25's 6.2'' screen to the Ultra's 6.9''. Each phone has a 12MP Wide AF selfie camera that can record 4K video at 60FPS. Both the S25 and the S25+'s main cameras are the same, sporting a 50MP Wide mode, a 12MP Ultrawide option, a 10MP Tele mode, and 3x Optical zoom. However, camera aficionados will want to pay extra for the S25 Ultra, as it blows the other models out of the water on the megapixel front. We're seeing a 200MP Wide, a 50MP Ultrawide, a 50MP 5x Tele, and both 3x and 5x Optical zooms. Let's check out the storage next. As you may expect, the more you pay, the more space you get to play with. The S25 goes up to 256GB of storage, the S25+ builds on that with a 512GB option, and the S25 Ultra goes one step further with a 1TB drive. No matter which model you pick, you'll get 12GB of RAM to go with that storage space. 2:27 Related Samsung Galaxy S24 Ultra review: The most feature-packed, do-it-all phone in the world The Galaxy S24 Ultra's new AI features along with (slightly) improved camera system and build make for the most maximal, do-it-all phone To keep your phone topped up, each model supports Super Fast Charging (with the S25+ and Ultra getting the 2.0 version), Fast Wireless Charging 2.0, and Wireless PowerShare. To stay connected, all models have 5G and Wi-Fi 7, with the S25+ and Ultra getting additional UWB connectivity. And all of them include Android 15 and One UI 7 to keep things running smoothly If you want to preorder your device, head over to the Samsung website and grab one starting today. The S25 starts at $799.99, the S25+ starts at $999.99, and the S25 Ultra starts at $1,299.99.\""
      ]
     },
     "execution_count": 15,
     "metadata": {},
     "output_type": "execute_result"
    }
   ],
   "execution_count": 15
  },
  {
   "cell_type": "code",
   "id": "9af1c85a-0643-40ac-819c-78cb37ab3950",
   "metadata": {
    "ExecuteTime": {
     "end_time": "2025-06-25T01:28:57.249884Z",
     "start_time": "2025-06-25T01:28:57.243815Z"
    }
   },
   "source": [
    "df[\"content\"][0]"
   ],
   "outputs": [
    {
     "data": {
      "text/plain": [
       "'Well, the Galaxy S25 Ultra screen takes the anti-reflective coating of its predecessor and runs with it, debuting the newest Gorilla Armor 2 glass by Corning . Samsung\\'s investment in Corning is being paid off by getting exclusive access to the best reinforced glass technology out there, and the S25 Ultra is a shining example. This offer is not available in your area. Get the mighty Samsung Galaxy S25 Ultra for up to $630 off with the official Samsung Store. To get the discount, you must provide an eligible trade-in in good condition. Not only is the Corning Gorilla Armor 2 glass over the S25 Ultra\\'s high-res OLED display more than two times stronger than before, but it offers the first scratch-resistant, anti-reflective glass ceramic cover glass available on a phone. David Velasquez, Vice President and General Manager, Corning Gorilla Glass, January \\'25 Receive the latest mobile news By subscribing you agree to our terms and conditions and privacy policy The new Gorilla Armor 2 lithium-aluminosilicate cover glass is tougher than what\\'s on other phones, including those from Apple and Samsung\\'s own S24 Ultra. Corning says that it fares much better on \"rough, challenging surfaces\" when it comes to the \"breakage\" factor. So much so, that it remained unscathed in Galaxy S25 Ultra drops of 2.2 meters (more than 7 feet) on a coarse concrete surface. \" Alternative glass ceramic materials failed when dropped from one meter ,\" brags Corning, apparently focusing squarely on the iPhone\\'s Ceramic Shield displays. The Gorilla Armor 2 creation demonstrates stellar scratch resistance, too, four times less prone to scuffs than competitive cover glasses with anti-reflective coating. Speaking of which, and this is our favorite new feature on the Galaxy S25 Ultra , the \" Gorilla Armor 2’s anti-reflective properties dramatically reduce surface reflections in both indoor and outdoor ambient settings .\" If this is anything beyond what\\'s already available on its predecessor, the S25 Ultra is shaping up to carry the best mobile display for outdoor usage out there.'"
      ]
     },
     "execution_count": 16,
     "metadata": {},
     "output_type": "execute_result"
    }
   ],
   "execution_count": 16
  },
  {
   "cell_type": "code",
   "id": "6112b2c4-2ee5-4263-87ec-6f1b3efc9122",
   "metadata": {
    "ExecuteTime": {
     "end_time": "2025-06-25T01:29:12.429446Z",
     "start_time": "2025-06-25T01:29:12.423975Z"
    }
   },
   "source": "df[\"content\"][4]",
   "outputs": [
    {
     "data": {
      "text/plain": [
       "'It\\'s hard to see value in the plethora of AI features tech companies have dumped on us in recent years. Do I really want AI to write my texts and emails? How often do I actually need to summarize a PDF ? Is a custom emoji of a dog in a Santa hat riding a skateboard (while cute) really worth dropping several hundred dollars on the latest AI-supercharged phone? Perhaps companies are picking up on our AI fatigue , or perhaps the technology is simply getting smarter and more intuitive. But during its Unpacked event on Wednesday, Samsung unveiled a slew of AI-powered features that the company says can pick up on our habits, offer helpful suggestions and handle mundane tasks via the S25 series . The focus wasn\\'t just on flexing AI capabilities, but also demonstrating how they might fit into more practical applications like streamlining everyday activities and navigating your phone\\'s functions -- all without necessarily drawing your attention to the AI running in the background. It\\'s a subtle shift, but one that made me put my \"Is AI your only party trick??\" cynicism aside for a moment. Sure, many of Samsung\\'s AI features, which were announced last year and also present on the Galaxy S25, are trivial (yet fun), such as Portrait Studio for creating stylized images and Sketch to Image for transforming doodles into AI-generated objects. But there are also a handful of functions that could make AI\\'s presence feel more natural -- and reflect what people actually want to see on their devices. We\\'ll have to see how these capabilities play out in the real world once I review the Galaxy S25 and S25 Plus . But for now, here are three new AI-backed features that piqued my interest and seem promising. Galaxy AI will learn your habits and offer suggestions In order to be helpful, AI needs to learn about you. Galaxy AI seems keen on doing so, then surfacing any relevant suggestions or information to simplify your routines. Imagine you\\'re someone who likes checking the weather each morning, then looking at your calendar, then reading the day\\'s news. Galaxy AI will pick up on that and, within the Now Brief widget, show you the weather, remind you of today\\'s meetings and share articles you may be interested in when you wake up, all without asking. Amid the proliferation of mobile AI features, this is one that seems to be relatively practical and useful. It appears to tap into what AI does best -- learning -- while applying that newfound knowledge in a way that can best serve you, all without being overbearing or superfluous. When I try this feature for myself, I\\'m curious which habits of mine it picks up and whether I do, in fact, feel understood in my daily routine. (Is there an \"Immediately open TikTok the second you wake up\" option here??) Gemini is at your service, all with the (long) press of a button Google\\'s Gemini AI assistant now makes it easier to carry out multiple actions with one command, like finding a nearby Italian restaurant and sending the results to a friend, or finding out when an event is and adding it to your calendar, then texting your friends about it. All you have to do is long-press the right-side power button and state your request, and Gemini will do the rest. This echoes what just about every major tech company is trying to do, from Apple to Google to Amazon: Turn AI into your personal agent . I tend to be wary of AI taking over tasks I\\'m fully capable of (and not because I\\'m a control freak, but I often struggle to see the value), but this is something I could see actually being helpful and time-saving. Instead of hopping across multiple apps, simply stating a command and letting an AI agent take over does sound rather enticing -- so long as it can do it well. More conversational search in Gallery and Settings Many of us take a lot of pictures on our phones, which makes pinpointing that one shot you just know is in your gallery all the more difficult. And a traditional search only gets you so far. Samsung is leveling up search in Gallery by making it more conversational: You can say something like, \"Find pictures of me in a pink coat in London in March,\" for instance. You could also be more broad to summon a wider range of results, like simply saying, \"Find pictures of me in a pink coat\" to see all the different ways you\\'ve styled it. Apple and Google have added similar functionality to their respective photos apps, and it\\'s nice to see Samsung catching up. This also applies to finding the right setting within the Galaxy\\'s massive menu. Instead of sifting through each portion to try and find what you\\'re looking for, you can also type something like, \"Help me find settings that make my eyes feel less strained.\" Then your phone might suggest turning on Eye Comfort Shield to limit blue light and adjust the screen\\'s color throughout the day. The idea is to cut back on the hassle of sifting through endless photos or menu options to find exactly what you need. Checking out more AI features on the S25 lineup One AI tool that I\\'m most curious about is Samsung\\'s AI Select feature, which is accessible via a panel on the edge of the S25\\'s screen. AI Select can detect what\\'s being shown onscreen and then make suggestions, like turning part of a YouTube video into a GIF or summarizing text on a webpage. It can also help with image editing suggestions. This is something I\\'ll certainly have to explore when I review the S25 and S25 Plus, because based on Samsung\\'s presentation, it\\'s not quite clear how much value might be added by this tool, or how often I might feel compelled to reach for it. But perhaps I\\'ll be pleasantly surprised. Be sure to check back for CNET\\'s in-depth reviews of the Galaxy S25 lineup, featuring our impressions of everything from the hardware to the software to AI and everything in between.'"
      ]
     },
     "execution_count": 19,
     "metadata": {},
     "output_type": "execute_result"
    }
   ],
   "execution_count": 19
  },
  {
   "cell_type": "code",
   "id": "d1884f9d-1033-4732-b290-adfb7b70dae1",
   "metadata": {
    "ExecuteTime": {
     "end_time": "2025-06-25T01:29:32.297251Z",
     "start_time": "2025-06-25T01:29:32.228799Z"
    }
   },
   "source": [
    "#df.to_excel(\"250623_2.xlsx\", index = False)\n",
    "df.to_excel(r\"C:\\Users\\KEARNEY\\Desktop\\url 크롤링\\결과.xlsx\", sheet_name='결과', index=False, engine='openpyxl')\n",
    "\n"
   ],
   "outputs": [],
   "execution_count": 21
  },
  {
   "cell_type": "code",
   "execution_count": null,
   "id": "59257637-8aa2-4622-9c5c-5e1cc1d4e90d",
   "metadata": {},
   "outputs": [],
   "source": []
  }
 ],
 "metadata": {
  "kernelspec": {
   "display_name": "Python 3 (ipykernel)",
   "language": "python",
   "name": "python3"
  },
  "language_info": {
   "codemirror_mode": {
    "name": "ipython",
    "version": 3
   },
   "file_extension": ".py",
   "mimetype": "text/x-python",
   "name": "python",
   "nbconvert_exporter": "python",
   "pygments_lexer": "ipython3",
   "version": "3.13.3"
  }
 },
 "nbformat": 4,
 "nbformat_minor": 5
}
